{
  "nbformat": 4,
  "nbformat_minor": 0,
  "metadata": {
    "colab": {
      "provenance": []
    },
    "kernelspec": {
      "name": "python3",
      "display_name": "Python 3"
    },
    "language_info": {
      "name": "python"
    }
  },
  "cells": [
    {
      "cell_type": "code",
      "execution_count": 4,
      "metadata": {
        "colab": {
          "base_uri": "https://localhost:8080/"
        },
        "id": "_hfUs-Su3EfM",
        "outputId": "24489baf-67ff-465b-ab68-e28afc5840b4"
      },
      "outputs": [
        {
          "output_type": "stream",
          "name": "stdout",
          "text": [
            "Unique Tamil words written to processed_tamil_words.csv\n"
          ]
        }
      ],
      "source": [
        "import pandas as pd\n",
        "import re\n",
        "\n",
        "# Load the CSV file\n",
        "file_path = \"/content/tamil_movie_reviews_test.csv\"\n",
        "df = pd.read_csv(file_path, header=None)  # no header in the file\n",
        "\n",
        "reviews = df.iloc[0, :].dropna()  # Drop empty cells\n",
        "\n",
        "# Define a function to check if a word is in Tamil\n",
        "def is_tamil_word(word):\n",
        "    # Match Tamil Unicode range (U+0B80 to U+0BFF)\n",
        "    return all(\"\\u0b80\" <= char <= \"\\u0bff\" for char in word)\n",
        "\n",
        "# Tokenize each sentence into words and collect unique Tamil words\n",
        "unique_words = set()\n",
        "for review in reviews:\n",
        "    # Split into words, remove symbols, and filter for Tamil words\n",
        "    words = re.findall(r'\\b[\\u0b80-\\u0bff]+\\b', review)\n",
        "    unique_words.update(filter(is_tamil_word, words))\n",
        "\n",
        "# Convert the unique Tamil words into a DataFrame\n",
        "unique_words_df = pd.DataFrame(sorted(unique_words), columns=[\"Tamil Words\"])\n",
        "\n",
        "# Write the unique Tamil words to a new CSV file\n",
        "output_path = \"processed_tamil_words.csv\"  # Specify output file path\n",
        "unique_words_df.to_csv(output_path, index=False)\n",
        "\n",
        "print(f\"Unique Tamil words written to {output_path}\")\n"
      ]
    }
  ]
}